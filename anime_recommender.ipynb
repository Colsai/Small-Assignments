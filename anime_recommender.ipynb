{
  "nbformat": 4,
  "nbformat_minor": 0,
  "metadata": {
    "colab": {
      "name": "anime_recommender.ipynb",
      "provenance": [],
      "collapsed_sections": [],
      "toc_visible": true,
      "mount_file_id": "1-0-TjY5FH_VefBdju649_D66YsAKUFR7",
      "authorship_tag": "ABX9TyMD/8y/p0FS9Gl8kFCS5og/",
      "include_colab_link": true
    },
    "kernelspec": {
      "name": "python3",
      "display_name": "Python 3"
    }
  },
  "cells": [
    {
      "cell_type": "markdown",
      "metadata": {
        "id": "view-in-github",
        "colab_type": "text"
      },
      "source": [
        "<a href=\"https://colab.research.google.com/github/Colsai/Small-Assignments/blob/main/anime_recommender.ipynb\" target=\"_parent\"><img src=\"https://colab.research.google.com/assets/colab-badge.svg\" alt=\"Open In Colab\"/></a>"
      ]
    },
    {
      "cell_type": "code",
      "metadata": {
        "id": "KmRaEDkamZgh"
      },
      "source": [
        "# Import Packages Here\r\n",
        "import pandas as pd\r\n",
        "import numpy as np\r\n",
        "import seaborn as sns\r\n",
        "import matplotlib.pyplot as plt"
      ],
      "execution_count": null,
      "outputs": []
    },
    {
      "cell_type": "code",
      "metadata": {
        "id": "N2qQFGFzp_g-"
      },
      "source": [
        "#Import the file\r\n",
        "anime = \"/content/drive/MyDrive/anime recommender/anime.csv\"\r\n",
        "anime_df = pd.read_csv(anime)"
      ],
      "execution_count": null,
      "outputs": []
    },
    {
      "cell_type": "code",
      "metadata": {
        "id": "AJFOHWIVwMpp"
      },
      "source": [
        "#Import the file\r\n",
        "rating = \"/content/drive/MyDrive/anime recommender/rating.csv\"\r\n",
        "rating_df = pd.read_csv(file)"
      ],
      "execution_count": null,
      "outputs": []
    },
    {
      "cell_type": "code",
      "metadata": {
        "colab": {
          "base_uri": "https://localhost:8080/",
          "height": 204
        },
        "id": "MziyYQEiqFE2",
        "outputId": "9131df7c-2dde-4a91-a32a-a97531ed317d"
      },
      "source": [
        "#let's look at the beginning of the data here\r\n",
        "anime_df.head()"
      ],
      "execution_count": null,
      "outputs": [
        {
          "output_type": "execute_result",
          "data": {
            "text/html": [
              "<div>\n",
              "<style scoped>\n",
              "    .dataframe tbody tr th:only-of-type {\n",
              "        vertical-align: middle;\n",
              "    }\n",
              "\n",
              "    .dataframe tbody tr th {\n",
              "        vertical-align: top;\n",
              "    }\n",
              "\n",
              "    .dataframe thead th {\n",
              "        text-align: right;\n",
              "    }\n",
              "</style>\n",
              "<table border=\"1\" class=\"dataframe\">\n",
              "  <thead>\n",
              "    <tr style=\"text-align: right;\">\n",
              "      <th></th>\n",
              "      <th>anime_id</th>\n",
              "      <th>name</th>\n",
              "      <th>genre</th>\n",
              "      <th>type</th>\n",
              "      <th>episodes</th>\n",
              "      <th>rating</th>\n",
              "      <th>members</th>\n",
              "    </tr>\n",
              "  </thead>\n",
              "  <tbody>\n",
              "    <tr>\n",
              "      <th>0</th>\n",
              "      <td>32281</td>\n",
              "      <td>Kimi no Na wa.</td>\n",
              "      <td>Drama, Romance, School, Supernatural</td>\n",
              "      <td>Movie</td>\n",
              "      <td>1</td>\n",
              "      <td>9.37</td>\n",
              "      <td>200630</td>\n",
              "    </tr>\n",
              "    <tr>\n",
              "      <th>1</th>\n",
              "      <td>5114</td>\n",
              "      <td>Fullmetal Alchemist: Brotherhood</td>\n",
              "      <td>Action, Adventure, Drama, Fantasy, Magic, Mili...</td>\n",
              "      <td>TV</td>\n",
              "      <td>64</td>\n",
              "      <td>9.26</td>\n",
              "      <td>793665</td>\n",
              "    </tr>\n",
              "    <tr>\n",
              "      <th>2</th>\n",
              "      <td>28977</td>\n",
              "      <td>Gintama°</td>\n",
              "      <td>Action, Comedy, Historical, Parody, Samurai, S...</td>\n",
              "      <td>TV</td>\n",
              "      <td>51</td>\n",
              "      <td>9.25</td>\n",
              "      <td>114262</td>\n",
              "    </tr>\n",
              "    <tr>\n",
              "      <th>3</th>\n",
              "      <td>9253</td>\n",
              "      <td>Steins;Gate</td>\n",
              "      <td>Sci-Fi, Thriller</td>\n",
              "      <td>TV</td>\n",
              "      <td>24</td>\n",
              "      <td>9.17</td>\n",
              "      <td>673572</td>\n",
              "    </tr>\n",
              "    <tr>\n",
              "      <th>4</th>\n",
              "      <td>9969</td>\n",
              "      <td>Gintama&amp;#039;</td>\n",
              "      <td>Action, Comedy, Historical, Parody, Samurai, S...</td>\n",
              "      <td>TV</td>\n",
              "      <td>51</td>\n",
              "      <td>9.16</td>\n",
              "      <td>151266</td>\n",
              "    </tr>\n",
              "  </tbody>\n",
              "</table>\n",
              "</div>"
            ],
            "text/plain": [
              "   anime_id                              name  ... rating members\n",
              "0     32281                    Kimi no Na wa.  ...   9.37  200630\n",
              "1      5114  Fullmetal Alchemist: Brotherhood  ...   9.26  793665\n",
              "2     28977                          Gintama°  ...   9.25  114262\n",
              "3      9253                       Steins;Gate  ...   9.17  673572\n",
              "4      9969                     Gintama&#039;  ...   9.16  151266\n",
              "\n",
              "[5 rows x 7 columns]"
            ]
          },
          "metadata": {
            "tags": []
          },
          "execution_count": 34
        }
      ]
    },
    {
      "cell_type": "code",
      "metadata": {
        "colab": {
          "base_uri": "https://localhost:8080/",
          "height": 510
        },
        "id": "b24qwATIwXK3",
        "outputId": "080f6e86-d6f1-41a4-9b9c-c0b952bbac1c"
      },
      "source": [
        "rating_df.head()"
      ],
      "execution_count": null,
      "outputs": [
        {
          "output_type": "execute_result",
          "data": {
            "text/html": [
              "<div>\n",
              "<style scoped>\n",
              "    .dataframe tbody tr th:only-of-type {\n",
              "        vertical-align: middle;\n",
              "    }\n",
              "\n",
              "    .dataframe tbody tr th {\n",
              "        vertical-align: top;\n",
              "    }\n",
              "\n",
              "    .dataframe thead th {\n",
              "        text-align: right;\n",
              "    }\n",
              "</style>\n",
              "<table border=\"1\" class=\"dataframe\">\n",
              "  <thead>\n",
              "    <tr style=\"text-align: right;\">\n",
              "      <th></th>\n",
              "      <th>title</th>\n",
              "      <th>mediaType</th>\n",
              "      <th>eps</th>\n",
              "      <th>duration</th>\n",
              "      <th>ongoing</th>\n",
              "      <th>startYr</th>\n",
              "      <th>finishYr</th>\n",
              "      <th>sznOfRelease</th>\n",
              "      <th>description</th>\n",
              "      <th>studios</th>\n",
              "      <th>tags</th>\n",
              "      <th>contentWarn</th>\n",
              "      <th>watched</th>\n",
              "      <th>watching</th>\n",
              "      <th>wantWatch</th>\n",
              "      <th>dropped</th>\n",
              "      <th>rating</th>\n",
              "      <th>votes</th>\n",
              "    </tr>\n",
              "  </thead>\n",
              "  <tbody>\n",
              "    <tr>\n",
              "      <th>0</th>\n",
              "      <td>Fullmetal Alchemist: Brotherhood</td>\n",
              "      <td>TV</td>\n",
              "      <td>64.0</td>\n",
              "      <td>NaN</td>\n",
              "      <td>False</td>\n",
              "      <td>2009.0</td>\n",
              "      <td>2010.0</td>\n",
              "      <td>Spring</td>\n",
              "      <td>The foundation of alchemy is based on the law ...</td>\n",
              "      <td>['Bones']</td>\n",
              "      <td>['Action', 'Adventure', 'Drama', 'Fantasy', 'M...</td>\n",
              "      <td>['Animal Abuse', 'Mature Themes', 'Violence', ...</td>\n",
              "      <td>103707.0</td>\n",
              "      <td>14351</td>\n",
              "      <td>25810</td>\n",
              "      <td>2656</td>\n",
              "      <td>4.702</td>\n",
              "      <td>86547.0</td>\n",
              "    </tr>\n",
              "    <tr>\n",
              "      <th>1</th>\n",
              "      <td>your name.</td>\n",
              "      <td>Movie</td>\n",
              "      <td>1.0</td>\n",
              "      <td>107.0</td>\n",
              "      <td>False</td>\n",
              "      <td>2016.0</td>\n",
              "      <td>2016.0</td>\n",
              "      <td>NaN</td>\n",
              "      <td>Mitsuha and Taki are two total strangers livin...</td>\n",
              "      <td>['CoMix Wave Films']</td>\n",
              "      <td>['Drama', 'Romance', 'Body Swapping', 'Gender ...</td>\n",
              "      <td>[]</td>\n",
              "      <td>58831.0</td>\n",
              "      <td>1453</td>\n",
              "      <td>21733</td>\n",
              "      <td>124</td>\n",
              "      <td>4.663</td>\n",
              "      <td>43960.0</td>\n",
              "    </tr>\n",
              "    <tr>\n",
              "      <th>2</th>\n",
              "      <td>A Silent Voice</td>\n",
              "      <td>Movie</td>\n",
              "      <td>1.0</td>\n",
              "      <td>130.0</td>\n",
              "      <td>False</td>\n",
              "      <td>2016.0</td>\n",
              "      <td>2016.0</td>\n",
              "      <td>NaN</td>\n",
              "      <td>After transferring into a new school, a deaf g...</td>\n",
              "      <td>['Kyoto Animation']</td>\n",
              "      <td>['Drama', 'Shounen', 'Disability', 'Melancholy...</td>\n",
              "      <td>['Bullying', 'Mature Themes', 'Suicide']</td>\n",
              "      <td>45892.0</td>\n",
              "      <td>946</td>\n",
              "      <td>17148</td>\n",
              "      <td>132</td>\n",
              "      <td>4.661</td>\n",
              "      <td>33752.0</td>\n",
              "    </tr>\n",
              "    <tr>\n",
              "      <th>3</th>\n",
              "      <td>Haikyuu!! Karasuno High School vs Shiratorizaw...</td>\n",
              "      <td>TV</td>\n",
              "      <td>10.0</td>\n",
              "      <td>NaN</td>\n",
              "      <td>False</td>\n",
              "      <td>2016.0</td>\n",
              "      <td>2016.0</td>\n",
              "      <td>Fall</td>\n",
              "      <td>Picking up where the second season ended, the ...</td>\n",
              "      <td>['Production I.G']</td>\n",
              "      <td>['Shounen', 'Sports', 'Animeism', 'School Club...</td>\n",
              "      <td>[]</td>\n",
              "      <td>25134.0</td>\n",
              "      <td>2183</td>\n",
              "      <td>8082</td>\n",
              "      <td>167</td>\n",
              "      <td>4.660</td>\n",
              "      <td>17422.0</td>\n",
              "    </tr>\n",
              "    <tr>\n",
              "      <th>4</th>\n",
              "      <td>Attack on Titan 3rd Season: Part II</td>\n",
              "      <td>TV</td>\n",
              "      <td>10.0</td>\n",
              "      <td>NaN</td>\n",
              "      <td>False</td>\n",
              "      <td>2019.0</td>\n",
              "      <td>2019.0</td>\n",
              "      <td>Spring</td>\n",
              "      <td>The battle to retake Wall Maria begins now! Wi...</td>\n",
              "      <td>['Wit Studio']</td>\n",
              "      <td>['Action', 'Fantasy', 'Horror', 'Shounen', 'Da...</td>\n",
              "      <td>['Cannibalism', 'Explicit Violence']</td>\n",
              "      <td>21308.0</td>\n",
              "      <td>3217</td>\n",
              "      <td>7864</td>\n",
              "      <td>174</td>\n",
              "      <td>4.650</td>\n",
              "      <td>15789.0</td>\n",
              "    </tr>\n",
              "  </tbody>\n",
              "</table>\n",
              "</div>"
            ],
            "text/plain": [
              "                                               title mediaType  ...  rating    votes\n",
              "0                   Fullmetal Alchemist: Brotherhood        TV  ...   4.702  86547.0\n",
              "1                                         your name.     Movie  ...   4.663  43960.0\n",
              "2                                     A Silent Voice     Movie  ...   4.661  33752.0\n",
              "3  Haikyuu!! Karasuno High School vs Shiratorizaw...        TV  ...   4.660  17422.0\n",
              "4                Attack on Titan 3rd Season: Part II        TV  ...   4.650  15789.0\n",
              "\n",
              "[5 rows x 18 columns]"
            ]
          },
          "metadata": {
            "tags": []
          },
          "execution_count": 35
        }
      ]
    },
    {
      "cell_type": "code",
      "metadata": {
        "colab": {
          "base_uri": "https://localhost:8080/"
        },
        "id": "Smjp1XGVsC3j",
        "outputId": "43e8ab13-4599-4ac7-95cd-f2985250bd6a"
      },
      "source": [
        "#And the shape of the dataset\r\n",
        "anime_df.shape"
      ],
      "execution_count": null,
      "outputs": [
        {
          "output_type": "execute_result",
          "data": {
            "text/plain": [
              "(12294, 7)"
            ]
          },
          "metadata": {
            "tags": []
          },
          "execution_count": 38
        }
      ]
    },
    {
      "cell_type": "code",
      "metadata": {
        "colab": {
          "base_uri": "https://localhost:8080/"
        },
        "id": "ye894Nw5sGD2",
        "outputId": "82cdaa73-4996-4741-86ef-e437b74c99fc"
      },
      "source": [
        "#And different variable types within the data\r\n",
        "anime_df.dtypes"
      ],
      "execution_count": null,
      "outputs": [
        {
          "output_type": "execute_result",
          "data": {
            "text/plain": [
              "anime_id      int64\n",
              "name         object\n",
              "genre        object\n",
              "type         object\n",
              "episodes     object\n",
              "rating      float64\n",
              "members       int64\n",
              "dtype: object"
            ]
          },
          "metadata": {
            "tags": []
          },
          "execution_count": 39
        }
      ]
    },
    {
      "cell_type": "code",
      "metadata": {
        "colab": {
          "base_uri": "https://localhost:8080/",
          "height": 442
        },
        "id": "mkC44L1xqF2X",
        "outputId": "d9b35ed7-4674-4074-ff37-4f6e4e873ac3"
      },
      "source": [
        "#And, just to see, look at how many anime shows have a lot of episodes. \r\n",
        "df.sort_values(by = \"eps\", ascending = False).head(5)"
      ],
      "execution_count": null,
      "outputs": [
        {
          "output_type": "execute_result",
          "data": {
            "text/html": [
              "<div>\n",
              "<style scoped>\n",
              "    .dataframe tbody tr th:only-of-type {\n",
              "        vertical-align: middle;\n",
              "    }\n",
              "\n",
              "    .dataframe tbody tr th {\n",
              "        vertical-align: top;\n",
              "    }\n",
              "\n",
              "    .dataframe thead th {\n",
              "        text-align: right;\n",
              "    }\n",
              "</style>\n",
              "<table border=\"1\" class=\"dataframe\">\n",
              "  <thead>\n",
              "    <tr style=\"text-align: right;\">\n",
              "      <th></th>\n",
              "      <th>title</th>\n",
              "      <th>mediaType</th>\n",
              "      <th>eps</th>\n",
              "      <th>duration</th>\n",
              "      <th>ongoing</th>\n",
              "      <th>startYr</th>\n",
              "      <th>finishYr</th>\n",
              "      <th>sznOfRelease</th>\n",
              "      <th>description</th>\n",
              "      <th>studios</th>\n",
              "      <th>tags</th>\n",
              "      <th>contentWarn</th>\n",
              "      <th>watched</th>\n",
              "      <th>watching</th>\n",
              "      <th>wantWatch</th>\n",
              "      <th>dropped</th>\n",
              "      <th>rating</th>\n",
              "      <th>votes</th>\n",
              "    </tr>\n",
              "  </thead>\n",
              "  <tbody>\n",
              "    <tr>\n",
              "      <th>7153</th>\n",
              "      <td>Sazae-san</td>\n",
              "      <td>TV</td>\n",
              "      <td>2527.0</td>\n",
              "      <td>NaN</td>\n",
              "      <td>True</td>\n",
              "      <td>1969.0</td>\n",
              "      <td>NaN</td>\n",
              "      <td>NaN</td>\n",
              "      <td>Sazae Fuguta, married to Masuo and mother of T...</td>\n",
              "      <td>['Eiken']</td>\n",
              "      <td>['Comedy', 'Slice of Life', 'Family Life', 'Ba...</td>\n",
              "      <td>[]</td>\n",
              "      <td>NaN</td>\n",
              "      <td>233</td>\n",
              "      <td>216</td>\n",
              "      <td>76</td>\n",
              "      <td>2.737</td>\n",
              "      <td>139.0</td>\n",
              "    </tr>\n",
              "    <tr>\n",
              "      <th>13591</th>\n",
              "      <td>Pleasant Goat and Big Big Wolf</td>\n",
              "      <td>TV</td>\n",
              "      <td>2367.0</td>\n",
              "      <td>15.0</td>\n",
              "      <td>True</td>\n",
              "      <td>2005.0</td>\n",
              "      <td>NaN</td>\n",
              "      <td>NaN</td>\n",
              "      <td>NaN</td>\n",
              "      <td>[]</td>\n",
              "      <td>['Adventure', 'Animal Protagonists', 'Anthropo...</td>\n",
              "      <td>[]</td>\n",
              "      <td>NaN</td>\n",
              "      <td>13</td>\n",
              "      <td>11</td>\n",
              "      <td>6</td>\n",
              "      <td>NaN</td>\n",
              "      <td>NaN</td>\n",
              "    </tr>\n",
              "    <tr>\n",
              "      <th>3178</th>\n",
              "      <td>Nintama Rantarou</td>\n",
              "      <td>TV</td>\n",
              "      <td>1888.0</td>\n",
              "      <td>10.0</td>\n",
              "      <td>True</td>\n",
              "      <td>1993.0</td>\n",
              "      <td>NaN</td>\n",
              "      <td>NaN</td>\n",
              "      <td>Rantarou, Shinbei and Kirimaru are ninja appre...</td>\n",
              "      <td>['Ajia-do']</td>\n",
              "      <td>['Action', 'Adventure', 'Comedy', 'Shounen', '...</td>\n",
              "      <td>[]</td>\n",
              "      <td>NaN</td>\n",
              "      <td>92</td>\n",
              "      <td>135</td>\n",
              "      <td>43</td>\n",
              "      <td>3.582</td>\n",
              "      <td>64.0</td>\n",
              "    </tr>\n",
              "    <tr>\n",
              "      <th>9638</th>\n",
              "      <td>Oyako Club</td>\n",
              "      <td>TV</td>\n",
              "      <td>1818.0</td>\n",
              "      <td>5.0</td>\n",
              "      <td>False</td>\n",
              "      <td>1994.0</td>\n",
              "      <td>2013.0</td>\n",
              "      <td>NaN</td>\n",
              "      <td>NaN</td>\n",
              "      <td>['Eiken']</td>\n",
              "      <td>['Comedy', 'Short Episodes']</td>\n",
              "      <td>[]</td>\n",
              "      <td>44.0</td>\n",
              "      <td>2</td>\n",
              "      <td>22</td>\n",
              "      <td>4</td>\n",
              "      <td>2.166</td>\n",
              "      <td>26.0</td>\n",
              "    </tr>\n",
              "    <tr>\n",
              "      <th>4517</th>\n",
              "      <td>Doraemon (1979)</td>\n",
              "      <td>TV</td>\n",
              "      <td>1787.0</td>\n",
              "      <td>11.0</td>\n",
              "      <td>False</td>\n",
              "      <td>1979.0</td>\n",
              "      <td>2005.0</td>\n",
              "      <td>NaN</td>\n",
              "      <td>Nobita is dumb, lazy, and slow, and as a resul...</td>\n",
              "      <td>['Shin-Ei Animation']</td>\n",
              "      <td>['Comedy', 'Shounen', 'Cats', 'Family Friendly...</td>\n",
              "      <td>[]</td>\n",
              "      <td>1599.0</td>\n",
              "      <td>1199</td>\n",
              "      <td>731</td>\n",
              "      <td>1155</td>\n",
              "      <td>3.290</td>\n",
              "      <td>2342.0</td>\n",
              "    </tr>\n",
              "  </tbody>\n",
              "</table>\n",
              "</div>"
            ],
            "text/plain": [
              "                                title mediaType  ...  rating   votes\n",
              "7153                        Sazae-san        TV  ...   2.737   139.0\n",
              "13591  Pleasant Goat and Big Big Wolf        TV  ...     NaN     NaN\n",
              "3178                 Nintama Rantarou        TV  ...   3.582    64.0\n",
              "9638                       Oyako Club        TV  ...   2.166    26.0\n",
              "4517                  Doraemon (1979)        TV  ...   3.290  2342.0\n",
              "\n",
              "[5 rows x 18 columns]"
            ]
          },
          "metadata": {
            "tags": []
          },
          "execution_count": 26
        }
      ]
    },
    {
      "cell_type": "markdown",
      "metadata": {
        "id": "W5RPZFXzr3rH"
      },
      "source": [
        "## What are these anime shows being rated?\r\n",
        "Let's take a look at these, by score"
      ]
    },
    {
      "cell_type": "code",
      "metadata": {
        "colab": {
          "base_uri": "https://localhost:8080/"
        },
        "id": "5GoLxCKkqRRK",
        "outputId": "1e55e447-7bd6-460d-91ae-5bce47cb679b"
      },
      "source": [
        "#Let's look at the distribution of ratings\r\n",
        "df['rating'].plot"
      ],
      "execution_count": null,
      "outputs": [
        {
          "output_type": "execute_result",
          "data": {
            "text/plain": [
              "<pandas.plotting._core.PlotAccessor object at 0x7f2062a51c88>"
            ]
          },
          "metadata": {
            "tags": []
          },
          "execution_count": 7
        }
      ]
    },
    {
      "cell_type": "markdown",
      "metadata": {
        "id": "lOedJdpBsW-v"
      },
      "source": [
        "Of these values, how many unique scores do we see?"
      ]
    },
    {
      "cell_type": "code",
      "metadata": {
        "colab": {
          "base_uri": "https://localhost:8080/"
        },
        "id": "_IMiZhNuq8fC",
        "outputId": "63c65f83-dcdb-4e15-e63e-12c36aab57a6"
      },
      "source": [
        "#How many unique values do we have?\r\n",
        "df['rating'].agg('nunique')"
      ],
      "execution_count": null,
      "outputs": [
        {
          "output_type": "execute_result",
          "data": {
            "text/plain": [
              "3306"
            ]
          },
          "metadata": {
            "tags": []
          },
          "execution_count": 11
        }
      ]
    },
    {
      "cell_type": "code",
      "metadata": {
        "colab": {
          "base_uri": "https://localhost:8080/",
          "height": 380
        },
        "id": "6I0cjd7fqeJx",
        "outputId": "d47fdb22-1a18-4e9e-fd90-eaa1243a2c4e"
      },
      "source": [
        "#Let's Look at the distribution for ratings here\r\n",
        "ratings = df['rating']\r\n",
        "\r\n",
        "n=int(ratings.agg('nunique') / 1e2) #Buckets are total number of unique / 100\r\n",
        "\r\n",
        "plt.hist(ratings, bins=n)\r\n",
        "\r\n",
        "plt.title(\"Distribution of Average Ratings\")\r\n",
        "plt.xlabel(\"Score\")\r\n",
        "plt.ylabel(\"Number of Ratings\")"
      ],
      "execution_count": null,
      "outputs": [
        {
          "output_type": "stream",
          "text": [
            "/usr/local/lib/python3.6/dist-packages/numpy/lib/histograms.py:839: RuntimeWarning: invalid value encountered in greater_equal\n",
            "  keep = (tmp_a >= first_edge)\n",
            "/usr/local/lib/python3.6/dist-packages/numpy/lib/histograms.py:840: RuntimeWarning: invalid value encountered in less_equal\n",
            "  keep &= (tmp_a <= last_edge)\n"
          ],
          "name": "stderr"
        },
        {
          "output_type": "execute_result",
          "data": {
            "text/plain": [
              "Text(0, 0.5, 'Number of Ratings')"
            ]
          },
          "metadata": {
            "tags": []
          },
          "execution_count": 22
        },
        {
          "output_type": "display_data",
          "data": {
            "image/png": "[encoded data removed]",
            "text/plain": [
              "<Figure size 432x288 with 1 Axes>"
            ]
          },
          "metadata": {
            "tags": [],
            "needs_background": "light"
          }
        }
      ]
    },
    {
      "cell_type": "code",
      "metadata": {
        "colab": {
          "base_uri": "https://localhost:8080/"
        },
        "id": "dbgfjcFTq1db",
        "outputId": "053746ec-6d84-4cd1-f73d-83b33684293f"
      },
      "source": [
        "# The Mean And Median Scores here:\r\n",
        "print(f\"mean: {ratings.agg('mean')} / median: {ratings.agg('median')}\")"
      ],
      "execution_count": null,
      "outputs": [
        {
          "output_type": "stream",
          "text": [
            "mean: 2.948696786982741 / median: 2.965\n"
          ],
          "name": "stdout"
        }
      ]
    },
    {
      "cell_type": "code",
      "metadata": {
        "id": "v3jJsffNsgMC"
      },
      "source": [
        ""
      ],
      "execution_count": null,
      "outputs": []
    }
  ]
}