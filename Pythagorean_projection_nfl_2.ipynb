{
  "nbformat": 4,
  "nbformat_minor": 0,
  "metadata": {
    "colab": {
      "name": "Pythagorean_projection_nfl",
      "provenance": [],
      "collapsed_sections": [],
      "authorship_tag": "ABX9TyMDAx9c+Mi5LeP3+4yqJO/t",
      "include_colab_link": true
    },
    "kernelspec": {
      "name": "python3",
      "display_name": "Python 3"
    }
  },
  "cells": [
    {
      "cell_type": "markdown",
      "metadata": {
        "id": "view-in-github",
        "colab_type": "text"
      },
      "source": [
        "<a href=\"https://colab.research.google.com/github/Colsai/Small-Assignments/blob/main/Pythagorean_projection_nfl_2.ipynb\" target=\"_parent\"><img src=\"https://colab.research.google.com/assets/colab-badge.svg\" alt=\"Open In Colab\"/></a>"
      ]
    },
    {
      "cell_type": "markdown",
      "metadata": {
        "id": "gL5NbYbqJiCS"
      },
      "source": [
        "# Quick Pythagorean Wins Calculator (NFL)\r\n",
        "See: \r\n",
        "https://en.wikipedia.org/wiki/Pythagorean_expectation#:~:text=The%20formula%20is%20used%20with,referred%20to%20as%20Pythagorean%20wins."
      ]
    },
    {
      "cell_type": "markdown",
      "metadata": {
        "id": "pl9PzojGfafZ"
      },
      "source": [
        "## Pythagorean Expected Win =\r\n",
        "Points for ** 2.37 / Points for ** 2.37 - Points allowed ** 2.37"
      ]
    },
    {
      "cell_type": "code",
      "metadata": {
        "id": "G-Vf2HMCK1ni"
      },
      "source": [
        "import os"
      ],
      "execution_count": 22,
      "outputs": []
    },
    {
      "cell_type": "code",
      "metadata": {
        "id": "MDQoVHhBK2ky"
      },
      "source": [
        "clear = lambda : os.system('cls')"
      ],
      "execution_count": 23,
      "outputs": []
    },
    {
      "cell_type": "code",
      "metadata": {
        "id": "PiLgebgtK8rR"
      },
      "source": [
        "#Exponential and number of games for expected\r\n",
        "exp = 2.37\r\n",
        "number_games = 16"
      ],
      "execution_count": 25,
      "outputs": []
    },
    {
      "cell_type": "code",
      "metadata": {
        "id": "MM1IJYPSfaDz",
        "colab": {
          "base_uri": "https://localhost:8080/",
          "height": 164
        },
        "outputId": "2a628f2e-b8c6-421d-e12b-af4cb9713918"
      },
      "source": [
        "#Input Points for and Points Allowed\r\n",
        "points_for = int(input(\"Points for? \"))\r\n",
        "points_allowed = int(input(\"Points allowed? \"))\r\n",
        "\r\n",
        "#In case it doesn't work\r\n",
        "if points_for == \"\":\r\n",
        "    points_for = 1\r\n",
        "else:\r\n",
        "    continue\r\n",
        "\r\n",
        "if points_allowed == \"\":\r\n",
        "    points_allowed = 1\r\n",
        "else:\r\n",
        "    continue\r\n",
        "    \r\n",
        "#Formula\r\n",
        "expected_win_pct = round((points_for**exp) / (points_for**exp + points_allowed**exp),3)*100\r\n",
        "expected_season_wins = round(number_games * expected_win_pct,3)/100\r\n",
        "\r\n",
        "#Print Result\r\n",
        "clear()\r\n",
        "\r\n",
        "print(f\"**NFL WIN PREDICTION**\\n{expected_win_pct} seasonal win % for {number_games} season and {expected_season_wins} wins\")"
      ],
      "execution_count": 26,
      "outputs": [
        {
          "output_type": "stream",
          "text": [
            "Points for? 450\n",
            "Points allowed? 200\n"
          ],
          "name": "stdout"
        },
        {
          "output_type": "error",
          "ename": "SyntaxError",
          "evalue": "ignored",
          "traceback": [
            "\u001b[0;36m  File \u001b[0;32m\"<ipython-input-26-3b696399cc28>\"\u001b[0;36m, line \u001b[0;32m9\u001b[0m\n\u001b[0;31m    continue\u001b[0m\n\u001b[0m    ^\u001b[0m\n\u001b[0;31mSyntaxError\u001b[0m\u001b[0;31m:\u001b[0m 'continue' not properly in loop\n"
          ]
        }
      ]
    },
    {
      "cell_type": "code",
      "metadata": {
        "id": "Q_N8gBA5JxDa"
      },
      "source": [
        ""
      ],
      "execution_count": null,
      "outputs": []
    }
  ]
}