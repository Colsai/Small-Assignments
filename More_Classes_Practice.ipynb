{
  "nbformat": 4,
  "nbformat_minor": 0,
  "metadata": {
    "colab": {
      "name": "More Classes Practice.ipynb",
      "provenance": [],
      "collapsed_sections": [],
      "authorship_tag": "ABX9TyOa6T6PPniGoHTIxQjLKCSM",
      "include_colab_link": true
    },
    "kernelspec": {
      "name": "python3",
      "display_name": "Python 3"
    }
  },
  "cells": [
    {
      "cell_type": "markdown",
      "metadata": {
        "id": "view-in-github",
        "colab_type": "text"
      },
      "source": [
        "<a href=\"https://colab.research.google.com/github/Colsai/Small-Assignments/blob/main/More_Classes_Practice.ipynb\" target=\"_parent\"><img src=\"https://colab.research.google.com/assets/colab-badge.svg\" alt=\"Open In Colab\"/></a>"
      ]
    },
    {
      "cell_type": "markdown",
      "metadata": {
        "id": "FdIXDudsuKqw"
      },
      "source": [
        "## A quick playing around with some of the classes:\n",
        "Looking at the very basic rudiments of making a game"
      ]
    },
    {
      "cell_type": "code",
      "metadata": {
        "id": "-kmUGINNuHpO"
      },
      "source": [
        "#Different Classes. You are a human hero class\n",
        "class human():\n",
        "    def __init__ (self, name, health, attack, defense, inventory):\n",
        "        self.name = name\n",
        "        self.health = health\n",
        "        self.attack = attack\n",
        "        self.defense = defense\n",
        "        self.inventory = inventory"
      ],
      "execution_count": 2,
      "outputs": []
    },
    {
      "cell_type": "code",
      "metadata": {
        "colab": {
          "base_uri": "https://localhost:8080/"
        },
        "id": "P7B7QLpBuelT",
        "outputId": "1a1b9007-a548-47ef-e5f4-d7b68e1a325a"
      },
      "source": [
        "#Input your name to 'start' the game\n",
        "your_name = input(\"Name?\")\n",
        "hero = human(your_name, 100, 10, 10, {})"
      ],
      "execution_count": 8,
      "outputs": [
        {
          "output_type": "stream",
          "text": [
            "Name?Kingly\n"
          ],
          "name": "stdout"
        }
      ]
    },
    {
      "cell_type": "code",
      "metadata": {
        "colab": {
          "base_uri": "https://localhost:8080/",
          "height": 35
        },
        "id": "JQ93Xkwjungb",
        "outputId": "2119f73a-87eb-4af9-8843-5b82ab2886d9"
      },
      "source": [
        "#Looking at different 'stats' of the character\n",
        "hero.name"
      ],
      "execution_count": 9,
      "outputs": [
        {
          "output_type": "execute_result",
          "data": {
            "application/vnd.google.colaboratory.intrinsic+json": {
              "type": "string"
            },
            "text/plain": [
              "'Kingly'"
            ]
          },
          "metadata": {
            "tags": []
          },
          "execution_count": 9
        }
      ]
    },
    {
      "cell_type": "code",
      "metadata": {
        "colab": {
          "base_uri": "https://localhost:8080/"
        },
        "id": "WF7R7eLEuqOb",
        "outputId": "20b1478d-f77a-4f77-bc2d-be66177edaeb"
      },
      "source": [
        "print(\"You enter a forest. A monster appears\")"
      ],
      "execution_count": 10,
      "outputs": [
        {
          "output_type": "stream",
          "text": [
            "You enter a forest. A monster appears\n"
          ],
          "name": "stdout"
        }
      ]
    },
    {
      "cell_type": "code",
      "metadata": {
        "id": "z4cqAQDyv275"
      },
      "source": [
        "def basic_fight(command):\n",
        "    if command == \"fight\":\n",
        "        print(\"You fight the monster head on. As you slash into it, she cuts you with her blade\")\n",
        "        hero.health += -10\n",
        "    elif command == \"flee\":\n",
        "        print(\"You get slashed in the back as you run, but take minimal damage\")\n",
        "        hero.health += -5\n",
        "    else:\n",
        "        print(\"You did not enter a command.\")\n",
        "    \n",
        "    return hero.health"
      ],
      "execution_count": 13,
      "outputs": []
    },
    {
      "cell_type": "code",
      "metadata": {
        "id": "SkMW7kCSwYb0"
      },
      "source": [
        "def go_to_direction(direction, x, y):\n",
        "    if direction == \"north\":\n",
        "        x += 0\n",
        "        y += 1\n",
        "    elif direction == \"south\":\n",
        "        x += 0\n",
        "        y +=-1\n",
        "    elif direction == \"east\":\n",
        "        x += -1\n",
        "        y += 0\n",
        "    elif direction == \"west\":\n",
        "        x += 1\n",
        "        y += 0\n",
        "    \n",
        "    return (x,y)"
      ],
      "execution_count": 28,
      "outputs": []
    },
    {
      "cell_type": "code",
      "metadata": {
        "colab": {
          "base_uri": "https://localhost:8080/",
          "height": 690
        },
        "id": "J64kJBnyvNvV",
        "outputId": "dded36c1-3bc8-4ae2-c0bd-1aedce69f5c6"
      },
      "source": [
        "command = input(\"Do you fight or flee?\")\n",
        "basic_fight(command)"
      ],
      "execution_count": 22,
      "outputs": [
        {
          "output_type": "stream",
          "text": [
            "Do you fight or flee?fight\n"
          ],
          "name": "stdout"
        },
        {
          "output_type": "stream",
          "text": [
            "ERROR:root:Internal Python error in the inspect module.\n",
            "Below is the traceback from this internal error.\n",
            "\n"
          ],
          "name": "stderr"
        },
        {
          "output_type": "stream",
          "text": [
            "Traceback (most recent call last):\n",
            "  File \"/usr/local/lib/python3.6/dist-packages/IPython/core/interactiveshell.py\", line 2882, in run_code\n",
            "    exec(code_obj, self.user_global_ns, self.user_ns)\n",
            "  File \"<ipython-input-22-6dcc794eb56d>\", line 2, in <module>\n",
            "    basic_fight(command, 0, 0)\n",
            "TypeError: basic_fight() takes 1 positional argument but 3 were given\n",
            "\n",
            "During handling of the above exception, another exception occurred:\n",
            "\n",
            "Traceback (most recent call last):\n",
            "  File \"/usr/local/lib/python3.6/dist-packages/IPython/core/interactiveshell.py\", line 1823, in showtraceback\n",
            "    stb = value._render_traceback_()\n",
            "AttributeError: 'TypeError' object has no attribute '_render_traceback_'\n",
            "\n",
            "During handling of the above exception, another exception occurred:\n",
            "\n",
            "Traceback (most recent call last):\n",
            "  File \"/usr/local/lib/python3.6/dist-packages/IPython/core/ultratb.py\", line 1132, in get_records\n",
            "    return _fixed_getinnerframes(etb, number_of_lines_of_context, tb_offset)\n",
            "  File \"/usr/local/lib/python3.6/dist-packages/IPython/core/ultratb.py\", line 313, in wrapped\n",
            "    return f(*args, **kwargs)\n",
            "  File \"/usr/local/lib/python3.6/dist-packages/IPython/core/ultratb.py\", line 358, in _fixed_getinnerframes\n",
            "    records = fix_frame_records_filenames(inspect.getinnerframes(etb, context))\n",
            "  File \"/usr/lib/python3.6/inspect.py\", line 1490, in getinnerframes\n",
            "    frameinfo = (tb.tb_frame,) + getframeinfo(tb, context)\n",
            "  File \"/usr/lib/python3.6/inspect.py\", line 1448, in getframeinfo\n",
            "    filename = getsourcefile(frame) or getfile(frame)\n",
            "  File \"/usr/lib/python3.6/inspect.py\", line 696, in getsourcefile\n",
            "    if getattr(getmodule(object, filename), '__loader__', None) is not None:\n",
            "  File \"/usr/lib/python3.6/inspect.py\", line 735, in getmodule\n",
            "    if f == _filesbymodname.get(modname, None):\n",
            "KeyboardInterrupt\n"
          ],
          "name": "stdout"
        },
        {
          "output_type": "error",
          "ename": "TypeError",
          "evalue": "ignored",
          "traceback": [
            "\u001b[0;31m---------------------------------------------------------------------------\u001b[0m"
          ]
        }
      ]
    },
    {
      "cell_type": "code",
      "metadata": {
        "colab": {
          "base_uri": "https://localhost:8080/"
        },
        "id": "Fw94jlyuwvDK",
        "outputId": "736de049-cf73-41bd-be65-7ea998efcb9e"
      },
      "source": [
        "direction = input(\"Which direction do you want to go?\")\n",
        "go_to_direction(direction, 0, 0)"
      ],
      "execution_count": 30,
      "outputs": [
        {
          "output_type": "stream",
          "text": [
            "Which direction do you want to go?west\n"
          ],
          "name": "stdout"
        },
        {
          "output_type": "execute_result",
          "data": {
            "text/plain": [
              "(1, 0)"
            ]
          },
          "metadata": {
            "tags": []
          },
          "execution_count": 30
        }
      ]
    },
    {
      "cell_type": "code",
      "metadata": {
        "id": "vOAz0ZyawEDC"
      },
      "source": [
        ""
      ],
      "execution_count": null,
      "outputs": []
    }
  ]
}