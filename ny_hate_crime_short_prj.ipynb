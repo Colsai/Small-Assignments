{
  "nbformat": 4,
  "nbformat_minor": 0,
  "metadata": {
    "colab": {
      "name": "ny_hate_crime_short_prj.ipynb",
      "provenance": [],
      "collapsed_sections": [],
      "authorship_tag": "ABX9TyNY0rd6bHadmBI3NbxsyVsd",
      "include_colab_link": true
    },
    "kernelspec": {
      "name": "python3",
      "display_name": "Python 3"
    },
    "language_info": {
      "name": "python"
    }
  },
  "cells": [
    {
      "cell_type": "markdown",
      "metadata": {
        "id": "view-in-github",
        "colab_type": "text"
      },
      "source": [
        "<a href=\"https://colab.research.google.com/github/Colsai/Small-Assignments/blob/main/ny_hate_crime_short_prj.ipynb\" target=\"_parent\"><img src=\"https://colab.research.google.com/assets/colab-badge.svg\" alt=\"Open In Colab\"/></a>"
      ]
    },
    {
      "cell_type": "code",
      "metadata": {
        "id": "ypzymRHY63gN"
      },
      "source": [
        "#Packages\n",
        "import pandas as pd\n",
        "import numpy as np\n",
        "import matplotlib.pyplot as plt\n",
        "import seaborn as sns"
      ],
      "execution_count": 1,
      "outputs": []
    },
    {
      "cell_type": "code",
      "metadata": {
        "id": "X1DVFUMH7A_S"
      },
      "source": [
        "#Data\n",
        "df = pd.read_csv(\"https://data.ny.gov/api/views/6xda-q7ev/rows.csv?accessType=DOWNLOAD\")"
      ],
      "execution_count": 2,
      "outputs": []
    },
    {
      "cell_type": "code",
      "metadata": {
        "colab": {
          "base_uri": "https://localhost:8080/"
        },
        "id": "mAwEhkEwA3mV",
        "outputId": "668c616e-e2f2-4d5e-ec82-e24c46077dc4"
      },
      "source": [
        "df.info()"
      ],
      "execution_count": 69,
      "outputs": [
        {
          "output_type": "stream",
          "text": [
            "<class 'pandas.core.frame.DataFrame'>\n",
            "RangeIndex: 605 entries, 0 to 604\n",
            "Data columns (total 44 columns):\n",
            " #   Column                                        Non-Null Count  Dtype \n",
            "---  ------                                        --------------  ----- \n",
            " 0   County                                        605 non-null    object\n",
            " 1   Year                                          605 non-null    int64 \n",
            " 2   Crime Type                                    605 non-null    object\n",
            " 3   Anti-Male                                     605 non-null    int64 \n",
            " 4   Anti-Female                                   605 non-null    int64 \n",
            " 5   Anti-Transgender                              605 non-null    int64 \n",
            " 6   Anti-Gender Identity Expression               605 non-null    int64 \n",
            " 7   Anti-Age*                                     605 non-null    int64 \n",
            " 8   Anti-White                                    605 non-null    int64 \n",
            " 9   Anti-Black                                    605 non-null    int64 \n",
            " 10  Anti-American Indian/Alaskan Native           605 non-null    int64 \n",
            " 11  Anti-Asian                                    605 non-null    int64 \n",
            " 12  Anti-Native Hawaiian/Pacific Islander         605 non-null    int64 \n",
            " 13  Anti-Multi-Racial Groups                      605 non-null    int64 \n",
            " 14  Anti-Other Race                               605 non-null    int64 \n",
            " 15  Anti-Jewish                                   605 non-null    int64 \n",
            " 16  Anti-Catholic                                 605 non-null    int64 \n",
            " 17  Anti-Protestant                               605 non-null    int64 \n",
            " 18  Anti-Islamic (Muslim)                         605 non-null    int64 \n",
            " 19  Anti-Multi-Religious Groups                   605 non-null    int64 \n",
            " 20  Anti-Atheism/Agnosticism                      605 non-null    int64 \n",
            " 21  Anti-Religious Practice Generally             605 non-null    int64 \n",
            " 22  Anti-Other Religion                           605 non-null    int64 \n",
            " 23  Anti-Buddhist                                 605 non-null    int64 \n",
            " 24  Anti-Eastern Orthodox (Greek, Russian, etc.)  605 non-null    int64 \n",
            " 25  Anti-Hindu                                    605 non-null    int64 \n",
            " 26  Anti-Jehovahs Witness                         605 non-null    int64 \n",
            " 27  Anti-Mormon                                   605 non-null    int64 \n",
            " 28  Anti-Other Christian                          605 non-null    int64 \n",
            " 29  Anti-Sikh                                     605 non-null    int64 \n",
            " 30  Anti-Hispanic                                 605 non-null    int64 \n",
            " 31  Anti-Arab                                     605 non-null    int64 \n",
            " 32  Anti-Other Ethnicity/National Origin          605 non-null    int64 \n",
            " 33  Anti-Non-Hispanic*                            605 non-null    int64 \n",
            " 34  Anti-Gay Male                                 605 non-null    int64 \n",
            " 35  Anti-Gay Female                               605 non-null    int64 \n",
            " 36  Anti-Gay (Male and Female)                    605 non-null    int64 \n",
            " 37  Anti-Heterosexual                             605 non-null    int64 \n",
            " 38  Anti-Bisexual                                 605 non-null    int64 \n",
            " 39  Anti-Physical Disability                      605 non-null    int64 \n",
            " 40  Anti-Mental Disability                        605 non-null    int64 \n",
            " 41  Total Incidents                               605 non-null    int64 \n",
            " 42  Total Victims                                 605 non-null    int64 \n",
            " 43  Total Offenders                               605 non-null    int64 \n",
            "dtypes: int64(42), object(2)\n",
            "memory usage: 208.1+ KB\n"
          ],
          "name": "stdout"
        }
      ]
    },
    {
      "cell_type": "code",
      "metadata": {
        "colab": {
          "base_uri": "https://localhost:8080/",
          "height": 164
        },
        "id": "_Ofiupcp7tjM",
        "outputId": "8bbdb946-66b0-42cb-b1fb-4457b31a1292"
      },
      "source": [
        "df.columns"
      ],
      "execution_count": 68,
      "outputs": [
        {
          "output_type": "error",
          "ename": "TypeError",
          "evalue": "ignored",
          "traceback": [
            "\u001b[0;31m---------------------------------------------------------------------------\u001b[0m",
            "\u001b[0;31mTypeError\u001b[0m                                 Traceback (most recent call last)",
            "\u001b[0;32m<ipython-input-68-ea942bf769f0>\u001b[0m in \u001b[0;36m<module>\u001b[0;34m()\u001b[0m\n\u001b[0;32m----> 1\u001b[0;31m \u001b[0mdf\u001b[0m\u001b[0;34m.\u001b[0m\u001b[0mcolumns\u001b[0m\u001b[0;34m(\u001b[0m\u001b[0;34m)\u001b[0m\u001b[0;34m\u001b[0m\u001b[0;34m\u001b[0m\u001b[0m\n\u001b[0m",
            "\u001b[0;31mTypeError\u001b[0m: 'Index' object is not callable"
          ]
        }
      ]
    },
    {
      "cell_type": "code",
      "metadata": {
        "colab": {
          "base_uri": "https://localhost:8080/",
          "height": 402
        },
        "id": "m1d9IGoe832g",
        "outputId": "5483fba4-3fb0-4ef7-de9f-47b5ea6fd391"
      },
      "source": [
        "#Describe the dataset\n",
        "df.groupby(\"Year\").agg(\"sum\").describe()"
      ],
      "execution_count": 17,
      "outputs": [
        {
          "output_type": "execute_result",
          "data": {
            "text/html": [
              "<div>\n",
              "<style scoped>\n",
              "    .dataframe tbody tr th:only-of-type {\n",
              "        vertical-align: middle;\n",
              "    }\n",
              "\n",
              "    .dataframe tbody tr th {\n",
              "        vertical-align: top;\n",
              "    }\n",
              "\n",
              "    .dataframe thead th {\n",
              "        text-align: right;\n",
              "    }\n",
              "</style>\n",
              "<table border=\"1\" class=\"dataframe\">\n",
              "  <thead>\n",
              "    <tr style=\"text-align: right;\">\n",
              "      <th></th>\n",
              "      <th>Anti-Male</th>\n",
              "      <th>Anti-Female</th>\n",
              "      <th>Anti-Transgender</th>\n",
              "      <th>Anti-Gender Identity Expression</th>\n",
              "      <th>Anti-Age*</th>\n",
              "      <th>Anti-White</th>\n",
              "      <th>Anti-Black</th>\n",
              "      <th>Anti-American Indian/Alaskan Native</th>\n",
              "      <th>Anti-Asian</th>\n",
              "      <th>Anti-Native Hawaiian/Pacific Islander</th>\n",
              "      <th>Anti-Multi-Racial Groups</th>\n",
              "      <th>Anti-Other Race</th>\n",
              "      <th>Anti-Jewish</th>\n",
              "      <th>Anti-Catholic</th>\n",
              "      <th>Anti-Protestant</th>\n",
              "      <th>Anti-Islamic (Muslim)</th>\n",
              "      <th>Anti-Multi-Religious Groups</th>\n",
              "      <th>Anti-Atheism/Agnosticism</th>\n",
              "      <th>Anti-Religious Practice Generally</th>\n",
              "      <th>Anti-Other Religion</th>\n",
              "      <th>Anti-Buddhist</th>\n",
              "      <th>Anti-Eastern Orthodox (Greek, Russian, etc.)</th>\n",
              "      <th>Anti-Hindu</th>\n",
              "      <th>Anti-Jehovahs Witness</th>\n",
              "      <th>Anti-Mormon</th>\n",
              "      <th>Anti-Other Christian</th>\n",
              "      <th>Anti-Sikh</th>\n",
              "      <th>Anti-Hispanic</th>\n",
              "      <th>Anti-Arab</th>\n",
              "      <th>Anti-Other Ethnicity/National Origin</th>\n",
              "      <th>Anti-Non-Hispanic*</th>\n",
              "      <th>Anti-Gay Male</th>\n",
              "      <th>Anti-Gay Female</th>\n",
              "      <th>Anti-Gay (Male and Female)</th>\n",
              "      <th>Anti-Heterosexual</th>\n",
              "      <th>Anti-Bisexual</th>\n",
              "      <th>Anti-Physical Disability</th>\n",
              "      <th>Anti-Mental Disability</th>\n",
              "      <th>Total Incidents</th>\n",
              "      <th>Total Victims</th>\n",
              "      <th>Total Offenders</th>\n",
              "    </tr>\n",
              "  </thead>\n",
              "  <tbody>\n",
              "    <tr>\n",
              "      <th>count</th>\n",
              "      <td>10.000000</td>\n",
              "      <td>10.000000</td>\n",
              "      <td>10.000000</td>\n",
              "      <td>10.000000</td>\n",
              "      <td>10.000000</td>\n",
              "      <td>10.000000</td>\n",
              "      <td>10.000000</td>\n",
              "      <td>10.000000</td>\n",
              "      <td>10.000000</td>\n",
              "      <td>10.0</td>\n",
              "      <td>10.000000</td>\n",
              "      <td>10.0</td>\n",
              "      <td>10.000000</td>\n",
              "      <td>10.000000</td>\n",
              "      <td>10.000000</td>\n",
              "      <td>10.000000</td>\n",
              "      <td>10.000000</td>\n",
              "      <td>10.0</td>\n",
              "      <td>10.000000</td>\n",
              "      <td>10.000000</td>\n",
              "      <td>10.000000</td>\n",
              "      <td>10.000000</td>\n",
              "      <td>10.000000</td>\n",
              "      <td>10.000000</td>\n",
              "      <td>10.000000</td>\n",
              "      <td>10.00000</td>\n",
              "      <td>10.0</td>\n",
              "      <td>10.000000</td>\n",
              "      <td>10.00000</td>\n",
              "      <td>10.000000</td>\n",
              "      <td>10.0</td>\n",
              "      <td>10.000000</td>\n",
              "      <td>10.000000</td>\n",
              "      <td>10.000000</td>\n",
              "      <td>10.000000</td>\n",
              "      <td>10.000000</td>\n",
              "      <td>10.000000</td>\n",
              "      <td>10.000000</td>\n",
              "      <td>10.000000</td>\n",
              "      <td>10.000000</td>\n",
              "      <td>10.000000</td>\n",
              "    </tr>\n",
              "    <tr>\n",
              "      <th>mean</th>\n",
              "      <td>0.300000</td>\n",
              "      <td>0.800000</td>\n",
              "      <td>2.800000</td>\n",
              "      <td>6.000000</td>\n",
              "      <td>2.300000</td>\n",
              "      <td>22.300000</td>\n",
              "      <td>102.500000</td>\n",
              "      <td>0.400000</td>\n",
              "      <td>9.900000</td>\n",
              "      <td>0.0</td>\n",
              "      <td>4.800000</td>\n",
              "      <td>0.0</td>\n",
              "      <td>250.800000</td>\n",
              "      <td>13.600000</td>\n",
              "      <td>1.000000</td>\n",
              "      <td>25.900000</td>\n",
              "      <td>4.100000</td>\n",
              "      <td>0.0</td>\n",
              "      <td>0.500000</td>\n",
              "      <td>4.900000</td>\n",
              "      <td>0.200000</td>\n",
              "      <td>0.100000</td>\n",
              "      <td>0.300000</td>\n",
              "      <td>0.100000</td>\n",
              "      <td>0.100000</td>\n",
              "      <td>1.90000</td>\n",
              "      <td>0.0</td>\n",
              "      <td>20.000000</td>\n",
              "      <td>5.80000</td>\n",
              "      <td>16.000000</td>\n",
              "      <td>0.0</td>\n",
              "      <td>80.100000</td>\n",
              "      <td>12.100000</td>\n",
              "      <td>6.400000</td>\n",
              "      <td>0.100000</td>\n",
              "      <td>0.200000</td>\n",
              "      <td>0.800000</td>\n",
              "      <td>0.400000</td>\n",
              "      <td>597.500000</td>\n",
              "      <td>617.400000</td>\n",
              "      <td>682.000000</td>\n",
              "    </tr>\n",
              "    <tr>\n",
              "      <th>std</th>\n",
              "      <td>0.483046</td>\n",
              "      <td>1.549193</td>\n",
              "      <td>1.932184</td>\n",
              "      <td>7.586538</td>\n",
              "      <td>3.465705</td>\n",
              "      <td>8.300602</td>\n",
              "      <td>23.735814</td>\n",
              "      <td>0.699206</td>\n",
              "      <td>4.771443</td>\n",
              "      <td>0.0</td>\n",
              "      <td>3.645393</td>\n",
              "      <td>0.0</td>\n",
              "      <td>47.990277</td>\n",
              "      <td>6.535374</td>\n",
              "      <td>1.247219</td>\n",
              "      <td>7.752419</td>\n",
              "      <td>5.087021</td>\n",
              "      <td>0.0</td>\n",
              "      <td>0.971825</td>\n",
              "      <td>4.863698</td>\n",
              "      <td>0.632456</td>\n",
              "      <td>0.316228</td>\n",
              "      <td>0.674949</td>\n",
              "      <td>0.316228</td>\n",
              "      <td>0.316228</td>\n",
              "      <td>2.18327</td>\n",
              "      <td>0.0</td>\n",
              "      <td>14.102797</td>\n",
              "      <td>6.05163</td>\n",
              "      <td>5.557777</td>\n",
              "      <td>0.0</td>\n",
              "      <td>20.393082</td>\n",
              "      <td>4.840799</td>\n",
              "      <td>3.596294</td>\n",
              "      <td>0.316228</td>\n",
              "      <td>0.421637</td>\n",
              "      <td>0.632456</td>\n",
              "      <td>0.699206</td>\n",
              "      <td>74.040905</td>\n",
              "      <td>79.156947</td>\n",
              "      <td>104.879825</td>\n",
              "    </tr>\n",
              "    <tr>\n",
              "      <th>min</th>\n",
              "      <td>0.000000</td>\n",
              "      <td>0.000000</td>\n",
              "      <td>0.000000</td>\n",
              "      <td>0.000000</td>\n",
              "      <td>0.000000</td>\n",
              "      <td>12.000000</td>\n",
              "      <td>75.000000</td>\n",
              "      <td>0.000000</td>\n",
              "      <td>4.000000</td>\n",
              "      <td>0.0</td>\n",
              "      <td>2.000000</td>\n",
              "      <td>0.0</td>\n",
              "      <td>199.000000</td>\n",
              "      <td>6.000000</td>\n",
              "      <td>0.000000</td>\n",
              "      <td>16.000000</td>\n",
              "      <td>0.000000</td>\n",
              "      <td>0.0</td>\n",
              "      <td>0.000000</td>\n",
              "      <td>0.000000</td>\n",
              "      <td>0.000000</td>\n",
              "      <td>0.000000</td>\n",
              "      <td>0.000000</td>\n",
              "      <td>0.000000</td>\n",
              "      <td>0.000000</td>\n",
              "      <td>0.00000</td>\n",
              "      <td>0.0</td>\n",
              "      <td>9.000000</td>\n",
              "      <td>0.00000</td>\n",
              "      <td>10.000000</td>\n",
              "      <td>0.0</td>\n",
              "      <td>54.000000</td>\n",
              "      <td>5.000000</td>\n",
              "      <td>0.000000</td>\n",
              "      <td>0.000000</td>\n",
              "      <td>0.000000</td>\n",
              "      <td>0.000000</td>\n",
              "      <td>0.000000</td>\n",
              "      <td>503.000000</td>\n",
              "      <td>522.000000</td>\n",
              "      <td>546.000000</td>\n",
              "    </tr>\n",
              "    <tr>\n",
              "      <th>25%</th>\n",
              "      <td>0.000000</td>\n",
              "      <td>0.000000</td>\n",
              "      <td>1.250000</td>\n",
              "      <td>0.000000</td>\n",
              "      <td>0.000000</td>\n",
              "      <td>15.250000</td>\n",
              "      <td>87.500000</td>\n",
              "      <td>0.000000</td>\n",
              "      <td>5.750000</td>\n",
              "      <td>0.0</td>\n",
              "      <td>3.000000</td>\n",
              "      <td>0.0</td>\n",
              "      <td>223.750000</td>\n",
              "      <td>8.000000</td>\n",
              "      <td>0.000000</td>\n",
              "      <td>19.750000</td>\n",
              "      <td>2.000000</td>\n",
              "      <td>0.0</td>\n",
              "      <td>0.000000</td>\n",
              "      <td>2.000000</td>\n",
              "      <td>0.000000</td>\n",
              "      <td>0.000000</td>\n",
              "      <td>0.000000</td>\n",
              "      <td>0.000000</td>\n",
              "      <td>0.000000</td>\n",
              "      <td>0.00000</td>\n",
              "      <td>0.0</td>\n",
              "      <td>13.000000</td>\n",
              "      <td>2.25000</td>\n",
              "      <td>13.000000</td>\n",
              "      <td>0.0</td>\n",
              "      <td>61.000000</td>\n",
              "      <td>7.250000</td>\n",
              "      <td>3.750000</td>\n",
              "      <td>0.000000</td>\n",
              "      <td>0.000000</td>\n",
              "      <td>0.250000</td>\n",
              "      <td>0.000000</td>\n",
              "      <td>556.500000</td>\n",
              "      <td>573.250000</td>\n",
              "      <td>628.250000</td>\n",
              "    </tr>\n",
              "    <tr>\n",
              "      <th>50%</th>\n",
              "      <td>0.000000</td>\n",
              "      <td>0.000000</td>\n",
              "      <td>3.500000</td>\n",
              "      <td>1.000000</td>\n",
              "      <td>1.000000</td>\n",
              "      <td>22.000000</td>\n",
              "      <td>96.500000</td>\n",
              "      <td>0.000000</td>\n",
              "      <td>10.500000</td>\n",
              "      <td>0.0</td>\n",
              "      <td>3.000000</td>\n",
              "      <td>0.0</td>\n",
              "      <td>241.000000</td>\n",
              "      <td>12.000000</td>\n",
              "      <td>1.000000</td>\n",
              "      <td>25.000000</td>\n",
              "      <td>3.000000</td>\n",
              "      <td>0.0</td>\n",
              "      <td>0.000000</td>\n",
              "      <td>3.000000</td>\n",
              "      <td>0.000000</td>\n",
              "      <td>0.000000</td>\n",
              "      <td>0.000000</td>\n",
              "      <td>0.000000</td>\n",
              "      <td>0.000000</td>\n",
              "      <td>1.00000</td>\n",
              "      <td>0.0</td>\n",
              "      <td>15.000000</td>\n",
              "      <td>4.50000</td>\n",
              "      <td>14.000000</td>\n",
              "      <td>0.0</td>\n",
              "      <td>84.500000</td>\n",
              "      <td>14.000000</td>\n",
              "      <td>8.000000</td>\n",
              "      <td>0.000000</td>\n",
              "      <td>0.000000</td>\n",
              "      <td>1.000000</td>\n",
              "      <td>0.000000</td>\n",
              "      <td>579.500000</td>\n",
              "      <td>595.500000</td>\n",
              "      <td>657.000000</td>\n",
              "    </tr>\n",
              "    <tr>\n",
              "      <th>75%</th>\n",
              "      <td>0.750000</td>\n",
              "      <td>1.000000</td>\n",
              "      <td>4.000000</td>\n",
              "      <td>13.000000</td>\n",
              "      <td>2.750000</td>\n",
              "      <td>26.500000</td>\n",
              "      <td>117.000000</td>\n",
              "      <td>0.750000</td>\n",
              "      <td>11.750000</td>\n",
              "      <td>0.0</td>\n",
              "      <td>6.750000</td>\n",
              "      <td>0.0</td>\n",
              "      <td>249.500000</td>\n",
              "      <td>19.500000</td>\n",
              "      <td>1.000000</td>\n",
              "      <td>30.500000</td>\n",
              "      <td>3.750000</td>\n",
              "      <td>0.0</td>\n",
              "      <td>0.750000</td>\n",
              "      <td>5.750000</td>\n",
              "      <td>0.000000</td>\n",
              "      <td>0.000000</td>\n",
              "      <td>0.000000</td>\n",
              "      <td>0.000000</td>\n",
              "      <td>0.000000</td>\n",
              "      <td>3.75000</td>\n",
              "      <td>0.0</td>\n",
              "      <td>19.750000</td>\n",
              "      <td>6.75000</td>\n",
              "      <td>17.000000</td>\n",
              "      <td>0.0</td>\n",
              "      <td>92.750000</td>\n",
              "      <td>15.750000</td>\n",
              "      <td>8.000000</td>\n",
              "      <td>0.000000</td>\n",
              "      <td>0.000000</td>\n",
              "      <td>1.000000</td>\n",
              "      <td>0.750000</td>\n",
              "      <td>618.500000</td>\n",
              "      <td>653.500000</td>\n",
              "      <td>726.250000</td>\n",
              "    </tr>\n",
              "    <tr>\n",
              "      <th>max</th>\n",
              "      <td>1.000000</td>\n",
              "      <td>5.000000</td>\n",
              "      <td>5.000000</td>\n",
              "      <td>18.000000</td>\n",
              "      <td>11.000000</td>\n",
              "      <td>37.000000</td>\n",
              "      <td>140.000000</td>\n",
              "      <td>2.000000</td>\n",
              "      <td>20.000000</td>\n",
              "      <td>0.0</td>\n",
              "      <td>13.000000</td>\n",
              "      <td>0.0</td>\n",
              "      <td>341.000000</td>\n",
              "      <td>24.000000</td>\n",
              "      <td>4.000000</td>\n",
              "      <td>41.000000</td>\n",
              "      <td>18.000000</td>\n",
              "      <td>0.0</td>\n",
              "      <td>3.000000</td>\n",
              "      <td>14.000000</td>\n",
              "      <td>2.000000</td>\n",
              "      <td>1.000000</td>\n",
              "      <td>2.000000</td>\n",
              "      <td>1.000000</td>\n",
              "      <td>1.000000</td>\n",
              "      <td>5.00000</td>\n",
              "      <td>0.0</td>\n",
              "      <td>58.000000</td>\n",
              "      <td>21.00000</td>\n",
              "      <td>30.000000</td>\n",
              "      <td>0.0</td>\n",
              "      <td>114.000000</td>\n",
              "      <td>18.000000</td>\n",
              "      <td>11.000000</td>\n",
              "      <td>1.000000</td>\n",
              "      <td>1.000000</td>\n",
              "      <td>2.000000</td>\n",
              "      <td>2.000000</td>\n",
              "      <td>734.000000</td>\n",
              "      <td>771.000000</td>\n",
              "      <td>857.000000</td>\n",
              "    </tr>\n",
              "  </tbody>\n",
              "</table>\n",
              "</div>"
            ],
            "text/plain": [
              "       Anti-Male  Anti-Female  ...  Total Victims  Total Offenders\n",
              "count  10.000000    10.000000  ...      10.000000        10.000000\n",
              "mean    0.300000     0.800000  ...     617.400000       682.000000\n",
              "std     0.483046     1.549193  ...      79.156947       104.879825\n",
              "min     0.000000     0.000000  ...     522.000000       546.000000\n",
              "25%     0.000000     0.000000  ...     573.250000       628.250000\n",
              "50%     0.000000     0.000000  ...     595.500000       657.000000\n",
              "75%     0.750000     1.000000  ...     653.500000       726.250000\n",
              "max     1.000000     5.000000  ...     771.000000       857.000000\n",
              "\n",
              "[8 rows x 41 columns]"
            ]
          },
          "metadata": {
            "tags": []
          },
          "execution_count": 17
        }
      ]
    },
    {
      "cell_type": "code",
      "metadata": {
        "id": "byVvJ6qK7uVE"
      },
      "source": [
        "df_asian_hc = df[['Year','Anti-Asian', 'Total Incidents']]"
      ],
      "execution_count": 19,
      "outputs": []
    },
    {
      "cell_type": "code",
      "metadata": {
        "colab": {
          "base_uri": "https://localhost:8080/",
          "height": 204
        },
        "id": "4uDLUgPD-Vlp",
        "outputId": "db7d9df0-64ff-48c2-f793-d118204e093c"
      },
      "source": [
        "df_asian_hc.head()"
      ],
      "execution_count": 30,
      "outputs": [
        {
          "output_type": "execute_result",
          "data": {
            "text/html": [
              "<div>\n",
              "<style scoped>\n",
              "    .dataframe tbody tr th:only-of-type {\n",
              "        vertical-align: middle;\n",
              "    }\n",
              "\n",
              "    .dataframe tbody tr th {\n",
              "        vertical-align: top;\n",
              "    }\n",
              "\n",
              "    .dataframe thead th {\n",
              "        text-align: right;\n",
              "    }\n",
              "</style>\n",
              "<table border=\"1\" class=\"dataframe\">\n",
              "  <thead>\n",
              "    <tr style=\"text-align: right;\">\n",
              "      <th></th>\n",
              "      <th>Year</th>\n",
              "      <th>Anti-Asian</th>\n",
              "      <th>Total Incidents</th>\n",
              "    </tr>\n",
              "  </thead>\n",
              "  <tbody>\n",
              "    <tr>\n",
              "      <th>0</th>\n",
              "      <td>2010</td>\n",
              "      <td>0</td>\n",
              "      <td>13</td>\n",
              "    </tr>\n",
              "    <tr>\n",
              "      <th>1</th>\n",
              "      <td>2010</td>\n",
              "      <td>0</td>\n",
              "      <td>2</td>\n",
              "    </tr>\n",
              "    <tr>\n",
              "      <th>2</th>\n",
              "      <td>2011</td>\n",
              "      <td>0</td>\n",
              "      <td>7</td>\n",
              "    </tr>\n",
              "    <tr>\n",
              "      <th>3</th>\n",
              "      <td>2011</td>\n",
              "      <td>0</td>\n",
              "      <td>3</td>\n",
              "    </tr>\n",
              "    <tr>\n",
              "      <th>4</th>\n",
              "      <td>2012</td>\n",
              "      <td>1</td>\n",
              "      <td>5</td>\n",
              "    </tr>\n",
              "  </tbody>\n",
              "</table>\n",
              "</div>"
            ],
            "text/plain": [
              "   Year  Anti-Asian  Total Incidents\n",
              "0  2010           0               13\n",
              "1  2010           0                2\n",
              "2  2011           0                7\n",
              "3  2011           0                3\n",
              "4  2012           1                5"
            ]
          },
          "metadata": {
            "tags": []
          },
          "execution_count": 30
        }
      ]
    },
    {
      "cell_type": "code",
      "metadata": {
        "id": "wz2_qvp7-YcC"
      },
      "source": [
        "df_agg_asian = df_asian_hc.groupby(\"Year\", \n",
        "                                   as_index = False).agg(\"sum\")"
      ],
      "execution_count": 31,
      "outputs": []
    },
    {
      "cell_type": "code",
      "metadata": {
        "id": "JkZZJNbw767k"
      },
      "source": [
        "df_agg_asian['Total Percent'] = round(100*(df_agg_asian['Anti-Asian']/df_agg_asian['Total Incidents']),4)"
      ],
      "execution_count": 37,
      "outputs": []
    },
    {
      "cell_type": "code",
      "metadata": {
        "colab": {
          "base_uri": "https://localhost:8080/",
          "height": 359
        },
        "id": "CoLCnj6b-SXz",
        "outputId": "1d80f314-6185-489e-9a47-a575fb93db8c"
      },
      "source": [
        "df_agg_asian"
      ],
      "execution_count": 38,
      "outputs": [
        {
          "output_type": "execute_result",
          "data": {
            "text/html": [
              "<div>\n",
              "<style scoped>\n",
              "    .dataframe tbody tr th:only-of-type {\n",
              "        vertical-align: middle;\n",
              "    }\n",
              "\n",
              "    .dataframe tbody tr th {\n",
              "        vertical-align: top;\n",
              "    }\n",
              "\n",
              "    .dataframe thead th {\n",
              "        text-align: right;\n",
              "    }\n",
              "</style>\n",
              "<table border=\"1\" class=\"dataframe\">\n",
              "  <thead>\n",
              "    <tr style=\"text-align: right;\">\n",
              "      <th></th>\n",
              "      <th>Year</th>\n",
              "      <th>Anti-Asian</th>\n",
              "      <th>Total Incidents</th>\n",
              "      <th>Total Percent</th>\n",
              "    </tr>\n",
              "  </thead>\n",
              "  <tbody>\n",
              "    <tr>\n",
              "      <th>0</th>\n",
              "      <td>2010</td>\n",
              "      <td>20</td>\n",
              "      <td>703</td>\n",
              "      <td>2.8450</td>\n",
              "    </tr>\n",
              "    <tr>\n",
              "      <th>1</th>\n",
              "      <td>2011</td>\n",
              "      <td>5</td>\n",
              "      <td>556</td>\n",
              "      <td>0.8993</td>\n",
              "    </tr>\n",
              "    <tr>\n",
              "      <th>2</th>\n",
              "      <td>2012</td>\n",
              "      <td>12</td>\n",
              "      <td>734</td>\n",
              "      <td>1.6349</td>\n",
              "    </tr>\n",
              "    <tr>\n",
              "      <th>3</th>\n",
              "      <td>2013</td>\n",
              "      <td>10</td>\n",
              "      <td>617</td>\n",
              "      <td>1.6207</td>\n",
              "    </tr>\n",
              "    <tr>\n",
              "      <th>4</th>\n",
              "      <td>2014</td>\n",
              "      <td>4</td>\n",
              "      <td>558</td>\n",
              "      <td>0.7168</td>\n",
              "    </tr>\n",
              "    <tr>\n",
              "      <th>5</th>\n",
              "      <td>2015</td>\n",
              "      <td>13</td>\n",
              "      <td>503</td>\n",
              "      <td>2.5845</td>\n",
              "    </tr>\n",
              "    <tr>\n",
              "      <th>6</th>\n",
              "      <td>2016</td>\n",
              "      <td>11</td>\n",
              "      <td>599</td>\n",
              "      <td>1.8364</td>\n",
              "    </tr>\n",
              "    <tr>\n",
              "      <th>7</th>\n",
              "      <td>2017</td>\n",
              "      <td>11</td>\n",
              "      <td>560</td>\n",
              "      <td>1.9643</td>\n",
              "    </tr>\n",
              "    <tr>\n",
              "      <th>8</th>\n",
              "      <td>2018</td>\n",
              "      <td>8</td>\n",
              "      <td>526</td>\n",
              "      <td>1.5209</td>\n",
              "    </tr>\n",
              "    <tr>\n",
              "      <th>9</th>\n",
              "      <td>2019</td>\n",
              "      <td>5</td>\n",
              "      <td>619</td>\n",
              "      <td>0.8078</td>\n",
              "    </tr>\n",
              "  </tbody>\n",
              "</table>\n",
              "</div>"
            ],
            "text/plain": [
              "   Year  Anti-Asian  Total Incidents  Total Percent\n",
              "0  2010          20              703         2.8450\n",
              "1  2011           5              556         0.8993\n",
              "2  2012          12              734         1.6349\n",
              "3  2013          10              617         1.6207\n",
              "4  2014           4              558         0.7168\n",
              "5  2015          13              503         2.5845\n",
              "6  2016          11              599         1.8364\n",
              "7  2017          11              560         1.9643\n",
              "8  2018           8              526         1.5209\n",
              "9  2019           5              619         0.8078"
            ]
          },
          "metadata": {
            "tags": []
          },
          "execution_count": 38
        }
      ]
    },
    {
      "cell_type": "code",
      "metadata": {
        "colab": {
          "base_uri": "https://localhost:8080/",
          "height": 296
        },
        "id": "UDKc1qzp8Fkd",
        "outputId": "85c4718b-3693-4645-d69d-4fa79e4c4340"
      },
      "source": [
        "#Small plot of the two\n",
        "sns.lineplot(x = 'Year',\n",
        "            y = 'Anti-Asian',\n",
        "            data = df_agg_asian)"
      ],
      "execution_count": 39,
      "outputs": [
        {
          "output_type": "execute_result",
          "data": {
            "text/plain": [
              "<matplotlib.axes._subplots.AxesSubplot at 0x7f3603b70b50>"
            ]
          },
          "metadata": {
            "tags": []
          },
          "execution_count": 39
        },
        {
          "output_type": "display_data",
          "data": {
            "image/png": "[encoded data removed]",
            "text/plain": [
              "<Figure size 432x288 with 1 Axes>"
            ]
          },
          "metadata": {
            "tags": [],
            "needs_background": "light"
          }
        }
      ]
    },
    {
      "cell_type": "code",
      "metadata": {
        "colab": {
          "base_uri": "https://localhost:8080/",
          "height": 312
        },
        "id": "aXefNIPk-9KE",
        "outputId": "4534272c-3f87-4577-c09d-c8a5fe2164c3"
      },
      "source": [
        "#Small plot of the two\n",
        "sns.figsize = (16,12)\n",
        "\n",
        "sns.barplot(x = 'Year',\n",
        "            y = 'Total Percent',\n",
        "            data = df_agg_asian,\n",
        "            alpha = .95,\n",
        "            color = 'black',\n",
        "            Width = .75)\n",
        "\n",
        "sns.despine()\n",
        "\n",
        "#Labels\n",
        "plt.title(\"NYC Asian Hate Crimes\")\n",
        "plt.xlabel(\"Year\")\n",
        "plt.ylabel(\"Percentage of Anti-Asian Hate Crimes\")"
      ],
      "execution_count": 67,
      "outputs": [
        {
          "output_type": "execute_result",
          "data": {
            "text/plain": [
              "Text(0, 0.5, 'Percentage of Anti-Asian Hate Crimes')"
            ]
          },
          "metadata": {
            "tags": []
          },
          "execution_count": 67
        },
        {
          "output_type": "display_data",
          "data": {
            "image/png": "[encoded data removed]",
            "text/plain": [
              "<Figure size 432x288 with 1 Axes>"
            ]
          },
          "metadata": {
            "tags": [],
            "needs_background": "light"
          }
        }
      ]
    },
    {
      "cell_type": "markdown",
      "metadata": {
        "id": "SLjy90mtAY3b"
      },
      "source": [
        "*Note:* Despite a population of around 11.8% of Asian people in New York City, the percentage of total hate crimes in New York was very low.\n"
      ]
    },
    {
      "cell_type": "markdown",
      "metadata": {
        "id": "40H6j50D-CNx"
      },
      "source": [
        "It appears as if hate crimes against Asians had been on the decline (at least in terms of reported cases)"
      ]
    }
  ]
}