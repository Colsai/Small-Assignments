{
  "nbformat": 4,
  "nbformat_minor": 0,
  "metadata": {
    "colab": {
      "name": "Japanese_whiskey.ipynb",
      "provenance": [],
      "collapsed_sections": [],
      "mount_file_id": "102u_smGM5PEQUSDItlbp_s91qkzNwQiv",
      "authorship_tag": "ABX9TyPcwmVqGE54CZ5zJ+Jwd0+5",
      "include_colab_link": true
    },
    "kernelspec": {
      "name": "python3",
      "display_name": "Python 3"
    }
  },
  "cells": [
    {
      "cell_type": "markdown",
      "metadata": {
        "id": "view-in-github",
        "colab_type": "text"
      },
      "source": [
        "<a href=\"https://colab.research.google.com/github/Colsai/Small-Assignments/blob/main/Japanese_whiskey.ipynb\" target=\"_parent\"><img src=\"https://colab.research.google.com/assets/colab-badge.svg\" alt=\"Open In Colab\"/></a>"
      ]
    },
    {
      "cell_type": "code",
      "metadata": {
        "id": "SzHwOEXzwnB5"
      },
      "source": [
        "#Import Packages\r\n",
        "import pandas as pd\r\n",
        "import numpy as np\r\n",
        "import matplotlib.pyplot as plt\r\n",
        "import statistics"
      ],
      "execution_count": 27,
      "outputs": []
    },
    {
      "cell_type": "code",
      "metadata": {
        "id": "aVHR7irXw9Fx"
      },
      "source": [
        "file = '/content/drive/MyDrive/Japanese Whiskey/japanese_whisky_review.csv'\r\n",
        "whiskey_df = pd.read_csv(file)"
      ],
      "execution_count": 3,
      "outputs": []
    },
    {
      "cell_type": "code",
      "metadata": {
        "colab": {
          "base_uri": "https://localhost:8080/",
          "height": 204
        },
        "id": "VMd-DRMwxBhV",
        "outputId": "b40cf1cc-9fbb-4118-fe8d-8f28fecdb28c"
      },
      "source": [
        "whiskey_df.head()"
      ],
      "execution_count": 4,
      "outputs": [
        {
          "output_type": "execute_result",
          "data": {
            "text/html": [
              "<div>\n",
              "<style scoped>\n",
              "    .dataframe tbody tr th:only-of-type {\n",
              "        vertical-align: middle;\n",
              "    }\n",
              "\n",
              "    .dataframe tbody tr th {\n",
              "        vertical-align: top;\n",
              "    }\n",
              "\n",
              "    .dataframe thead th {\n",
              "        text-align: right;\n",
              "    }\n",
              "</style>\n",
              "<table border=\"1\" class=\"dataframe\">\n",
              "  <thead>\n",
              "    <tr style=\"text-align: right;\">\n",
              "      <th></th>\n",
              "      <th>Unnamed: 0</th>\n",
              "      <th>Bottle_name</th>\n",
              "      <th>Brand</th>\n",
              "      <th>Title</th>\n",
              "      <th>Review_Content</th>\n",
              "    </tr>\n",
              "  </thead>\n",
              "  <tbody>\n",
              "    <tr>\n",
              "      <th>0</th>\n",
              "      <td>1</td>\n",
              "      <td>The Yamazaki Single Malt Whisky - Distiller’s ...</td>\n",
              "      <td>Yamazaki</td>\n",
              "      <td>Overpriced dissapointment</td>\n",
              "      <td>Dull taste. High price. No finish. Over-hyped ...</td>\n",
              "    </tr>\n",
              "    <tr>\n",
              "      <th>1</th>\n",
              "      <td>2</td>\n",
              "      <td>The Yamazaki Single Malt Whisky - Distiller’s ...</td>\n",
              "      <td>Yamazaki</td>\n",
              "      <td>Delicious</td>\n",
              "      <td>Delicious! sugared red fruits and sweet with a...</td>\n",
              "    </tr>\n",
              "    <tr>\n",
              "      <th>2</th>\n",
              "      <td>3</td>\n",
              "      <td>The Yamazaki Single Malt Whisky - Distiller’s ...</td>\n",
              "      <td>Yamazaki</td>\n",
              "      <td>Good for beginners. i know cos i am a beginner</td>\n",
              "      <td>I am not a whisky expert but i really love the...</td>\n",
              "    </tr>\n",
              "    <tr>\n",
              "      <th>3</th>\n",
              "      <td>4</td>\n",
              "      <td>The Yamazaki Single Malt Whisky - Distiller’s ...</td>\n",
              "      <td>Yamazaki</td>\n",
              "      <td>Yamazaki Tutorial</td>\n",
              "      <td>This is a terrible Yamazaki.  Very young, unsh...</td>\n",
              "    </tr>\n",
              "    <tr>\n",
              "      <th>4</th>\n",
              "      <td>5</td>\n",
              "      <td>The Yamazaki Single Malt Whisky - Distiller’s ...</td>\n",
              "      <td>Yamazaki</td>\n",
              "      <td>Very Nice</td>\n",
              "      <td>First time and I like it - fresh but not thin ...</td>\n",
              "    </tr>\n",
              "  </tbody>\n",
              "</table>\n",
              "</div>"
            ],
            "text/plain": [
              "   Unnamed: 0  ...                                     Review_Content\n",
              "0           1  ...  Dull taste. High price. No finish. Over-hyped ...\n",
              "1           2  ...  Delicious! sugared red fruits and sweet with a...\n",
              "2           3  ...  I am not a whisky expert but i really love the...\n",
              "3           4  ...  This is a terrible Yamazaki.  Very young, unsh...\n",
              "4           5  ...  First time and I like it - fresh but not thin ...\n",
              "\n",
              "[5 rows x 5 columns]"
            ]
          },
          "metadata": {
            "tags": []
          },
          "execution_count": 4
        }
      ]
    },
    {
      "cell_type": "code",
      "metadata": {
        "id": "KnU-L1LmxG4m"
      },
      "source": [
        "whiskey_df = whiskey_df.drop(columns = \"Unnamed: 0\")"
      ],
      "execution_count": 6,
      "outputs": []
    },
    {
      "cell_type": "code",
      "metadata": {
        "colab": {
          "base_uri": "https://localhost:8080/",
          "height": 204
        },
        "id": "zwodXrokxOKV",
        "outputId": "613495cb-4fc2-4512-bb94-df1f7f6657bd"
      },
      "source": [
        "#Head of the data\r\n",
        "whiskey_df.head()"
      ],
      "execution_count": 7,
      "outputs": [
        {
          "output_type": "execute_result",
          "data": {
            "text/html": [
              "<div>\n",
              "<style scoped>\n",
              "    .dataframe tbody tr th:only-of-type {\n",
              "        vertical-align: middle;\n",
              "    }\n",
              "\n",
              "    .dataframe tbody tr th {\n",
              "        vertical-align: top;\n",
              "    }\n",
              "\n",
              "    .dataframe thead th {\n",
              "        text-align: right;\n",
              "    }\n",
              "</style>\n",
              "<table border=\"1\" class=\"dataframe\">\n",
              "  <thead>\n",
              "    <tr style=\"text-align: right;\">\n",
              "      <th></th>\n",
              "      <th>Bottle_name</th>\n",
              "      <th>Brand</th>\n",
              "      <th>Title</th>\n",
              "      <th>Review_Content</th>\n",
              "    </tr>\n",
              "  </thead>\n",
              "  <tbody>\n",
              "    <tr>\n",
              "      <th>0</th>\n",
              "      <td>The Yamazaki Single Malt Whisky - Distiller’s ...</td>\n",
              "      <td>Yamazaki</td>\n",
              "      <td>Overpriced dissapointment</td>\n",
              "      <td>Dull taste. High price. No finish. Over-hyped ...</td>\n",
              "    </tr>\n",
              "    <tr>\n",
              "      <th>1</th>\n",
              "      <td>The Yamazaki Single Malt Whisky - Distiller’s ...</td>\n",
              "      <td>Yamazaki</td>\n",
              "      <td>Delicious</td>\n",
              "      <td>Delicious! sugared red fruits and sweet with a...</td>\n",
              "    </tr>\n",
              "    <tr>\n",
              "      <th>2</th>\n",
              "      <td>The Yamazaki Single Malt Whisky - Distiller’s ...</td>\n",
              "      <td>Yamazaki</td>\n",
              "      <td>Good for beginners. i know cos i am a beginner</td>\n",
              "      <td>I am not a whisky expert but i really love the...</td>\n",
              "    </tr>\n",
              "    <tr>\n",
              "      <th>3</th>\n",
              "      <td>The Yamazaki Single Malt Whisky - Distiller’s ...</td>\n",
              "      <td>Yamazaki</td>\n",
              "      <td>Yamazaki Tutorial</td>\n",
              "      <td>This is a terrible Yamazaki.  Very young, unsh...</td>\n",
              "    </tr>\n",
              "    <tr>\n",
              "      <th>4</th>\n",
              "      <td>The Yamazaki Single Malt Whisky - Distiller’s ...</td>\n",
              "      <td>Yamazaki</td>\n",
              "      <td>Very Nice</td>\n",
              "      <td>First time and I like it - fresh but not thin ...</td>\n",
              "    </tr>\n",
              "  </tbody>\n",
              "</table>\n",
              "</div>"
            ],
            "text/plain": [
              "                                         Bottle_name  ...                                     Review_Content\n",
              "0  The Yamazaki Single Malt Whisky - Distiller’s ...  ...  Dull taste. High price. No finish. Over-hyped ...\n",
              "1  The Yamazaki Single Malt Whisky - Distiller’s ...  ...  Delicious! sugared red fruits and sweet with a...\n",
              "2  The Yamazaki Single Malt Whisky - Distiller’s ...  ...  I am not a whisky expert but i really love the...\n",
              "3  The Yamazaki Single Malt Whisky - Distiller’s ...  ...  This is a terrible Yamazaki.  Very young, unsh...\n",
              "4  The Yamazaki Single Malt Whisky - Distiller’s ...  ...  First time and I like it - fresh but not thin ...\n",
              "\n",
              "[5 rows x 4 columns]"
            ]
          },
          "metadata": {
            "tags": []
          },
          "execution_count": 7
        }
      ]
    },
    {
      "cell_type": "code",
      "metadata": {
        "colab": {
          "base_uri": "https://localhost:8080/",
          "height": 204
        },
        "id": "JlEcH5mFxwiO",
        "outputId": "f8427b86-fffa-4acb-b3a8-a14c99a21e94"
      },
      "source": [
        "whiskey_df.tail()"
      ],
      "execution_count": 15,
      "outputs": [
        {
          "output_type": "execute_result",
          "data": {
            "text/html": [
              "<div>\n",
              "<style scoped>\n",
              "    .dataframe tbody tr th:only-of-type {\n",
              "        vertical-align: middle;\n",
              "    }\n",
              "\n",
              "    .dataframe tbody tr th {\n",
              "        vertical-align: top;\n",
              "    }\n",
              "\n",
              "    .dataframe thead th {\n",
              "        text-align: right;\n",
              "    }\n",
              "</style>\n",
              "<table border=\"1\" class=\"dataframe\">\n",
              "  <thead>\n",
              "    <tr style=\"text-align: right;\">\n",
              "      <th></th>\n",
              "      <th>Bottle_name</th>\n",
              "      <th>Brand</th>\n",
              "      <th>Title</th>\n",
              "      <th>Review_Content</th>\n",
              "    </tr>\n",
              "  </thead>\n",
              "  <tbody>\n",
              "    <tr>\n",
              "      <th>1125</th>\n",
              "      <td>Nikka 1995 Single Cask Coffey Grain</td>\n",
              "      <td>Nikka</td>\n",
              "      <td>Great whisky</td>\n",
              "      <td>Really enjoyed the flavour of this whisky... G...</td>\n",
              "    </tr>\n",
              "    <tr>\n",
              "      <th>1126</th>\n",
              "      <td>Nikka 1995 Single Cask Coffey Grain</td>\n",
              "      <td>Nikka</td>\n",
              "      <td>Phenomenal.</td>\n",
              "      <td>Given the slightly racist tone to the guy at t...</td>\n",
              "    </tr>\n",
              "    <tr>\n",
              "      <th>1127</th>\n",
              "      <td>Nikka 1995 Single Cask Coffey Grain</td>\n",
              "      <td>Nikka</td>\n",
              "      <td>Great.</td>\n",
              "      <td>The particular distillation process makes this...</td>\n",
              "    </tr>\n",
              "    <tr>\n",
              "      <th>1128</th>\n",
              "      <td>Nikka 1995 Single Cask Coffey Grain</td>\n",
              "      <td>Nikka</td>\n",
              "      <td>It's whisky, not wine</td>\n",
              "      <td>That's probably why the previous poster though...</td>\n",
              "    </tr>\n",
              "    <tr>\n",
              "      <th>1129</th>\n",
              "      <td>Nikka 1995 Single Cask Coffey Grain</td>\n",
              "      <td>Nikka</td>\n",
              "      <td>Japs dont know anything about making wine</td>\n",
              "      <td>Its like buying a bottle of Grey Goose thinkin...</td>\n",
              "    </tr>\n",
              "  </tbody>\n",
              "</table>\n",
              "</div>"
            ],
            "text/plain": [
              "                              Bottle_name  ...                                     Review_Content\n",
              "1125  Nikka 1995 Single Cask Coffey Grain  ...  Really enjoyed the flavour of this whisky... G...\n",
              "1126  Nikka 1995 Single Cask Coffey Grain  ...  Given the slightly racist tone to the guy at t...\n",
              "1127  Nikka 1995 Single Cask Coffey Grain  ...  The particular distillation process makes this...\n",
              "1128  Nikka 1995 Single Cask Coffey Grain  ...  That's probably why the previous poster though...\n",
              "1129  Nikka 1995 Single Cask Coffey Grain  ...  Its like buying a bottle of Grey Goose thinkin...\n",
              "\n",
              "[5 rows x 4 columns]"
            ]
          },
          "metadata": {
            "tags": []
          },
          "execution_count": 15
        }
      ]
    },
    {
      "cell_type": "code",
      "metadata": {
        "colab": {
          "base_uri": "https://localhost:8080/",
          "height": 204
        },
        "id": "HOSSpmYRx1JE",
        "outputId": "47f8a9d9-1bb7-491a-bcb6-7019477ae201"
      },
      "source": [
        "whiskey_df.sample(5)"
      ],
      "execution_count": 16,
      "outputs": [
        {
          "output_type": "execute_result",
          "data": {
            "text/html": [
              "<div>\n",
              "<style scoped>\n",
              "    .dataframe tbody tr th:only-of-type {\n",
              "        vertical-align: middle;\n",
              "    }\n",
              "\n",
              "    .dataframe tbody tr th {\n",
              "        vertical-align: top;\n",
              "    }\n",
              "\n",
              "    .dataframe thead th {\n",
              "        text-align: right;\n",
              "    }\n",
              "</style>\n",
              "<table border=\"1\" class=\"dataframe\">\n",
              "  <thead>\n",
              "    <tr style=\"text-align: right;\">\n",
              "      <th></th>\n",
              "      <th>Bottle_name</th>\n",
              "      <th>Brand</th>\n",
              "      <th>Title</th>\n",
              "      <th>Review_Content</th>\n",
              "    </tr>\n",
              "  </thead>\n",
              "  <tbody>\n",
              "    <tr>\n",
              "      <th>1050</th>\n",
              "      <td>Nikka Taketsuru 17 Year Old</td>\n",
              "      <td>Nikka</td>\n",
              "      <td>My first bottle in Tokyo</td>\n",
              "      <td>I came back with three of these, 2 wrapped hop...</td>\n",
              "    </tr>\n",
              "    <tr>\n",
              "      <th>190</th>\n",
              "      <td>Yamazaki 18 Year Old</td>\n",
              "      <td>Yamazaki</td>\n",
              "      <td>very nice x10</td>\n",
              "      <td>I've got to say .. it was very nice.</td>\n",
              "    </tr>\n",
              "    <tr>\n",
              "      <th>82</th>\n",
              "      <td>Yamazaki 12 Year Old</td>\n",
              "      <td>Yamazaki</td>\n",
              "      <td>Good, not outstanding. Far too expensive.</td>\n",
              "      <td>Had a bottle of this a few years ago at a much...</td>\n",
              "    </tr>\n",
              "    <tr>\n",
              "      <th>326</th>\n",
              "      <td>Yamazaki Sherry Cask 2016</td>\n",
              "      <td>Yamazaki</td>\n",
              "      <td>Unscrupulous</td>\n",
              "      <td>Not sure MoM will allow or be happy Let's  jus...</td>\n",
              "    </tr>\n",
              "    <tr>\n",
              "      <th>211</th>\n",
              "      <td>Yamazaki 18 Year Old</td>\n",
              "      <td>Yamazaki</td>\n",
              "      <td>damn..</td>\n",
              "      <td>solid body.. extremely long finish.. must add ...</td>\n",
              "    </tr>\n",
              "  </tbody>\n",
              "</table>\n",
              "</div>"
            ],
            "text/plain": [
              "                      Bottle_name  ...                                     Review_Content\n",
              "1050  Nikka Taketsuru 17 Year Old  ...  I came back with three of these, 2 wrapped hop...\n",
              "190          Yamazaki 18 Year Old  ...               I've got to say .. it was very nice.\n",
              "82           Yamazaki 12 Year Old  ...  Had a bottle of this a few years ago at a much...\n",
              "326     Yamazaki Sherry Cask 2016  ...  Not sure MoM will allow or be happy Let's  jus...\n",
              "211          Yamazaki 18 Year Old  ...  solid body.. extremely long finish.. must add ...\n",
              "\n",
              "[5 rows x 4 columns]"
            ]
          },
          "metadata": {
            "tags": []
          },
          "execution_count": 16
        }
      ]
    },
    {
      "cell_type": "code",
      "metadata": {
        "colab": {
          "base_uri": "https://localhost:8080/",
          "height": 419
        },
        "id": "dtGbJza8x3mG",
        "outputId": "963b90d7-15d0-439e-c184-c808c954acae"
      },
      "source": [
        "#Pivoting the dataframe\r\n",
        "whiskey_df.melt(id_vars = [\"Brand\", \"Bottle_name\"],\r\n",
        "                var_name = \"Type\",\r\n",
        "                value_name = \"Rating\")"
      ],
      "execution_count": 23,
      "outputs": [
        {
          "output_type": "execute_result",
          "data": {
            "text/html": [
              "<div>\n",
              "<style scoped>\n",
              "    .dataframe tbody tr th:only-of-type {\n",
              "        vertical-align: middle;\n",
              "    }\n",
              "\n",
              "    .dataframe tbody tr th {\n",
              "        vertical-align: top;\n",
              "    }\n",
              "\n",
              "    .dataframe thead th {\n",
              "        text-align: right;\n",
              "    }\n",
              "</style>\n",
              "<table border=\"1\" class=\"dataframe\">\n",
              "  <thead>\n",
              "    <tr style=\"text-align: right;\">\n",
              "      <th></th>\n",
              "      <th>Brand</th>\n",
              "      <th>Bottle_name</th>\n",
              "      <th>Type</th>\n",
              "      <th>Rating</th>\n",
              "    </tr>\n",
              "  </thead>\n",
              "  <tbody>\n",
              "    <tr>\n",
              "      <th>0</th>\n",
              "      <td>Yamazaki</td>\n",
              "      <td>The Yamazaki Single Malt Whisky - Distiller’s ...</td>\n",
              "      <td>Title</td>\n",
              "      <td>Overpriced dissapointment</td>\n",
              "    </tr>\n",
              "    <tr>\n",
              "      <th>1</th>\n",
              "      <td>Yamazaki</td>\n",
              "      <td>The Yamazaki Single Malt Whisky - Distiller’s ...</td>\n",
              "      <td>Title</td>\n",
              "      <td>Delicious</td>\n",
              "    </tr>\n",
              "    <tr>\n",
              "      <th>2</th>\n",
              "      <td>Yamazaki</td>\n",
              "      <td>The Yamazaki Single Malt Whisky - Distiller’s ...</td>\n",
              "      <td>Title</td>\n",
              "      <td>Good for beginners. i know cos i am a beginner</td>\n",
              "    </tr>\n",
              "    <tr>\n",
              "      <th>3</th>\n",
              "      <td>Yamazaki</td>\n",
              "      <td>The Yamazaki Single Malt Whisky - Distiller’s ...</td>\n",
              "      <td>Title</td>\n",
              "      <td>Yamazaki Tutorial</td>\n",
              "    </tr>\n",
              "    <tr>\n",
              "      <th>4</th>\n",
              "      <td>Yamazaki</td>\n",
              "      <td>The Yamazaki Single Malt Whisky - Distiller’s ...</td>\n",
              "      <td>Title</td>\n",
              "      <td>Very Nice</td>\n",
              "    </tr>\n",
              "    <tr>\n",
              "      <th>...</th>\n",
              "      <td>...</td>\n",
              "      <td>...</td>\n",
              "      <td>...</td>\n",
              "      <td>...</td>\n",
              "    </tr>\n",
              "    <tr>\n",
              "      <th>2255</th>\n",
              "      <td>Nikka</td>\n",
              "      <td>Nikka 1995 Single Cask Coffey Grain</td>\n",
              "      <td>Review_Content</td>\n",
              "      <td>Really enjoyed the flavour of this whisky... G...</td>\n",
              "    </tr>\n",
              "    <tr>\n",
              "      <th>2256</th>\n",
              "      <td>Nikka</td>\n",
              "      <td>Nikka 1995 Single Cask Coffey Grain</td>\n",
              "      <td>Review_Content</td>\n",
              "      <td>Given the slightly racist tone to the guy at t...</td>\n",
              "    </tr>\n",
              "    <tr>\n",
              "      <th>2257</th>\n",
              "      <td>Nikka</td>\n",
              "      <td>Nikka 1995 Single Cask Coffey Grain</td>\n",
              "      <td>Review_Content</td>\n",
              "      <td>The particular distillation process makes this...</td>\n",
              "    </tr>\n",
              "    <tr>\n",
              "      <th>2258</th>\n",
              "      <td>Nikka</td>\n",
              "      <td>Nikka 1995 Single Cask Coffey Grain</td>\n",
              "      <td>Review_Content</td>\n",
              "      <td>That's probably why the previous poster though...</td>\n",
              "    </tr>\n",
              "    <tr>\n",
              "      <th>2259</th>\n",
              "      <td>Nikka</td>\n",
              "      <td>Nikka 1995 Single Cask Coffey Grain</td>\n",
              "      <td>Review_Content</td>\n",
              "      <td>Its like buying a bottle of Grey Goose thinkin...</td>\n",
              "    </tr>\n",
              "  </tbody>\n",
              "</table>\n",
              "<p>2260 rows × 4 columns</p>\n",
              "</div>"
            ],
            "text/plain": [
              "         Brand  ...                                             Rating\n",
              "0     Yamazaki  ...                          Overpriced dissapointment\n",
              "1     Yamazaki  ...                                          Delicious\n",
              "2     Yamazaki  ...     Good for beginners. i know cos i am a beginner\n",
              "3     Yamazaki  ...                                  Yamazaki Tutorial\n",
              "4     Yamazaki  ...                                          Very Nice\n",
              "...        ...  ...                                                ...\n",
              "2255     Nikka  ...  Really enjoyed the flavour of this whisky... G...\n",
              "2256     Nikka  ...  Given the slightly racist tone to the guy at t...\n",
              "2257     Nikka  ...  The particular distillation process makes this...\n",
              "2258     Nikka  ...  That's probably why the previous poster though...\n",
              "2259     Nikka  ...  Its like buying a bottle of Grey Goose thinkin...\n",
              "\n",
              "[2260 rows x 4 columns]"
            ]
          },
          "metadata": {
            "tags": []
          },
          "execution_count": 23
        }
      ]
    },
    {
      "cell_type": "code",
      "metadata": {
        "colab": {
          "base_uri": "https://localhost:8080/"
        },
        "id": "QvsMJcNOxRS_",
        "outputId": "e5e780ce-0806-4f09-b215-1f78022adfd4"
      },
      "source": [
        "whiskey_df.shape"
      ],
      "execution_count": 8,
      "outputs": [
        {
          "output_type": "execute_result",
          "data": {
            "text/plain": [
              "(1130, 4)"
            ]
          },
          "metadata": {
            "tags": []
          },
          "execution_count": 8
        }
      ]
    },
    {
      "cell_type": "code",
      "metadata": {
        "id": "8CV_aGCaxpLY"
      },
      "source": [
        "#Not enough data to do a lot here."
      ],
      "execution_count": null,
      "outputs": []
    }
  ]
}